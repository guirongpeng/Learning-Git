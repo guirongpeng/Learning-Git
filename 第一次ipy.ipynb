{
 "cells": [
  {
   "cell_type": "code",
   "execution_count": null,
   "metadata": {},
   "outputs": [],
   "source": [
    "# /*-我测试在master修改\n",
    "# 切换到master2，然后再master2下，上传\n",
    "# 看master会不会也上传"
   ]
  },
  {
   "cell_type": "code",
   "execution_count": 17,
   "metadata": {},
   "outputs": [],
   "source": [
    "import csv\n",
    "\n",
    "\n",
    "Title = []\n",
    "Url   = []\n",
    "content = []\n",
    "\n",
    "\n",
    "\n",
    "\n",
    "# 打开CSV文件\n",
    "with open(r\"docs.csv\", 'r', encoding='utf-8') as file:\n",
    "    reader = csv.reader(file)\n",
    "    # 跳过头部行\n",
    "    next(reader)\n",
    "    for row in reader:\n",
    "        doc_title = row[0]\n",
    "        doc_url = row[1]\n",
    "        doc_content = row[2]\n",
    "        \n",
    "        # 处理文本，例如去除空行、去除HTML标签等\n",
    "        # 以下仅为示例，根据实际需要调整\n",
    "        doc_content_cleaned = doc_content.strip()  # 去除首尾空白字符\n",
    "\n",
    "        Title.append(doc_title)\n",
    "        Url.append(doc_url)\n",
    "        content.append(doc_content_cleaned)\n",
    "        \n",
    "        # # 打印清理后的数据，或者进行进一步处理\n",
    "        # print(f'Title: {doc_title}')\n",
    "        # print(f'URL: {doc_url}')\n",
    "        # print(f'Content: {doc_content_cleaned}')\n",
    "        # print('---------------------------------')\n"
   ]
  },
  {
   "cell_type": "code",
   "execution_count": 18,
   "metadata": {},
   "outputs": [
    {
     "data": {
      "text/html": [
       "<div>\n",
       "<style scoped>\n",
       "    .dataframe tbody tr th:only-of-type {\n",
       "        vertical-align: middle;\n",
       "    }\n",
       "\n",
       "    .dataframe tbody tr th {\n",
       "        vertical-align: top;\n",
       "    }\n",
       "\n",
       "    .dataframe thead th {\n",
       "        text-align: right;\n",
       "    }\n",
       "</style>\n",
       "<table border=\"1\" class=\"dataframe\">\n",
       "  <thead>\n",
       "    <tr style=\"text-align: right;\">\n",
       "      <th></th>\n",
       "      <th>doc_title</th>\n",
       "      <th>doc_url</th>\n",
       "      <th>doc_content</th>\n",
       "    </tr>\n",
       "  </thead>\n",
       "  <tbody>\n",
       "    <tr>\n",
       "      <th>0</th>\n",
       "      <td>What's New</td>\n",
       "      <td>https://2021.help.altair.com/2021/hwdesktop/al...</td>\n",
       "      <td>What's New\\nView new features for HyperWorks\\n...</td>\n",
       "    </tr>\n",
       "    <tr>\n",
       "      <th>1</th>\n",
       "      <td>2021 Release Notes</td>\n",
       "      <td>https://2021.help.altair.com/2021/hwdesktop/al...</td>\n",
       "      <td>2021 Release Notes</td>\n",
       "    </tr>\n",
       "    <tr>\n",
       "      <th>2</th>\n",
       "      <td>Altair HyperWorks Desktop</td>\n",
       "      <td>https://2021.help.altair.com/2021/hwdesktop/al...</td>\n",
       "      <td>Altair HyperWorks Desktop 2021 Release Notes</td>\n",
       "    </tr>\n",
       "    <tr>\n",
       "      <th>3</th>\n",
       "      <td>Altair HyperMesh</td>\n",
       "      <td>https://2021.help.altair.com/2021/hwdesktop/al...</td>\n",
       "      <td>Altair HyperMesh 2021 Release Notes\\n\\n\\n\\nBro...</td>\n",
       "    </tr>\n",
       "    <tr>\n",
       "      <th>4</th>\n",
       "      <td>Browsers</td>\n",
       "      <td>https://2021.help.altair.com/2021/hwdesktop/al...</td>\n",
       "      <td>Altair HyperMesh 2021 Release Notes\\n\\n\\n\\nBro...</td>\n",
       "    </tr>\n",
       "    <tr>\n",
       "      <th>...</th>\n",
       "      <td>...</td>\n",
       "      <td>...</td>\n",
       "      <td>...</td>\n",
       "    </tr>\n",
       "    <tr>\n",
       "      <th>580</th>\n",
       "      <td>HVVH-7000: Result Tab</td>\n",
       "      <td>https://2021.help.altair.com/2021/hwdesktop/al...</td>\n",
       "      <td>HVVH-7000: Result Tab\\n\\n\\nCompare results fro...</td>\n",
       "    </tr>\n",
       "    <tr>\n",
       "      <th>581</th>\n",
       "      <td>HVVH-8000: Manufacturing Solution Tab - HyperForm</td>\n",
       "      <td>https://2021.help.altair.com/2021/hwdesktop/al...</td>\n",
       "      <td>HVVH-8000: Manufacturing Solution Tab - HyperF...</td>\n",
       "    </tr>\n",
       "    <tr>\n",
       "      <th>582</th>\n",
       "      <td>HVVH-9000: Manufacturing Solution Tab - HyperX...</td>\n",
       "      <td>https://2021.help.altair.com/2021/hwdesktop/al...</td>\n",
       "      <td>HVVH-9000: Manufacturing Solution Tab - HyperX...</td>\n",
       "    </tr>\n",
       "    <tr>\n",
       "      <th>583</th>\n",
       "      <td>HVVH-9500: AutoCompare</td>\n",
       "      <td>https://2021.help.altair.com/2021/hwdesktop/al...</td>\n",
       "      <td>HVVH-9500: AutoCompare\\n\\n\\n\\n\\n\\n\\n\\n\\n\\nHype...</td>\n",
       "    </tr>\n",
       "    <tr>\n",
       "      <th>584</th>\n",
       "      <td>Uninstall HyperWorks</td>\n",
       "      <td>https://2021.help.altair.com/2021/hwdesktop/al...</td>\n",
       "      <td>Uninstall HyperWorks\\nUninstall HyperWorks is ...</td>\n",
       "    </tr>\n",
       "  </tbody>\n",
       "</table>\n",
       "<p>585 rows × 3 columns</p>\n",
       "</div>"
      ],
      "text/plain": [
       "                                             doc_title  \\\n",
       "0                                           What's New   \n",
       "1                                   2021 Release Notes   \n",
       "2                            Altair HyperWorks Desktop   \n",
       "3                                     Altair HyperMesh   \n",
       "4                                             Browsers   \n",
       "..                                                 ...   \n",
       "580                              HVVH-7000: Result Tab   \n",
       "581  HVVH-8000: Manufacturing Solution Tab - HyperForm   \n",
       "582  HVVH-9000: Manufacturing Solution Tab - HyperX...   \n",
       "583                             HVVH-9500: AutoCompare   \n",
       "584                               Uninstall HyperWorks   \n",
       "\n",
       "                                               doc_url  \\\n",
       "0    https://2021.help.altair.com/2021/hwdesktop/al...   \n",
       "1    https://2021.help.altair.com/2021/hwdesktop/al...   \n",
       "2    https://2021.help.altair.com/2021/hwdesktop/al...   \n",
       "3    https://2021.help.altair.com/2021/hwdesktop/al...   \n",
       "4    https://2021.help.altair.com/2021/hwdesktop/al...   \n",
       "..                                                 ...   \n",
       "580  https://2021.help.altair.com/2021/hwdesktop/al...   \n",
       "581  https://2021.help.altair.com/2021/hwdesktop/al...   \n",
       "582  https://2021.help.altair.com/2021/hwdesktop/al...   \n",
       "583  https://2021.help.altair.com/2021/hwdesktop/al...   \n",
       "584  https://2021.help.altair.com/2021/hwdesktop/al...   \n",
       "\n",
       "                                           doc_content  \n",
       "0    What's New\\nView new features for HyperWorks\\n...  \n",
       "1                                   2021 Release Notes  \n",
       "2         Altair HyperWorks Desktop 2021 Release Notes  \n",
       "3    Altair HyperMesh 2021 Release Notes\\n\\n\\n\\nBro...  \n",
       "4    Altair HyperMesh 2021 Release Notes\\n\\n\\n\\nBro...  \n",
       "..                                                 ...  \n",
       "580  HVVH-7000: Result Tab\\n\\n\\nCompare results fro...  \n",
       "581  HVVH-8000: Manufacturing Solution Tab - HyperF...  \n",
       "582  HVVH-9000: Manufacturing Solution Tab - HyperX...  \n",
       "583  HVVH-9500: AutoCompare\\n\\n\\n\\n\\n\\n\\n\\n\\n\\nHype...  \n",
       "584  Uninstall HyperWorks\\nUninstall HyperWorks is ...  \n",
       "\n",
       "[585 rows x 3 columns]"
      ]
     },
     "execution_count": 18,
     "metadata": {},
     "output_type": "execute_result"
    }
   ],
   "source": [
    "import pandas as pd \n",
    "docs = pd.DataFrame()\n",
    "docs['doc_title'] = Title\n",
    "docs['doc_url'] = Url\n",
    "docs['doc_content'] = content\n",
    "docs "
   ]
  },
  {
   "cell_type": "code",
   "execution_count": 19,
   "metadata": {},
   "outputs": [],
   "source": [
    "docs.to_excel(r'correct_docs.xlsx',index=None)"
   ]
  },
  {
   "cell_type": "code",
   "execution_count": 24,
   "metadata": {},
   "outputs": [
    {
     "data": {
      "text/plain": [
       "0      https://2021.help.altair.com/2021/hwdesktop/al...\n",
       "1      https://2021.help.altair.com/2021/hwdesktop/al...\n",
       "2      https://2021.help.altair.com/2021/hwdesktop/al...\n",
       "3      https://2021.help.altair.com/2021/hwdesktop/al...\n",
       "4      https://2021.help.altair.com/2021/hwdesktop/al...\n",
       "                             ...                        \n",
       "580    https://2021.help.altair.com/2021/hwdesktop/al...\n",
       "581    https://2021.help.altair.com/2021/hwdesktop/al...\n",
       "582    https://2021.help.altair.com/2021/hwdesktop/al...\n",
       "583    https://2021.help.altair.com/2021/hwdesktop/al...\n",
       "584    https://2021.help.altair.com/2021/hwdesktop/al...\n",
       "Name: doc_url, Length: 585, dtype: object"
      ]
     },
     "execution_count": 24,
     "metadata": {},
     "output_type": "execute_result"
    }
   ],
   "source": [
    "docs['doc_url']"
   ]
  },
  {
   "cell_type": "code",
   "execution_count": 27,
   "metadata": {},
   "outputs": [
    {
     "name": "stdout",
     "output_type": "stream",
     "text": [
      "Number of duplicate rows: 0\n"
     ]
    }
   ],
   "source": [
    "# 检查数据中的重复行\n",
    "duplicates = docs['doc_url'].duplicated()\n",
    "\n",
    "# 统计重复行的数量\n",
    "num_duplicates = duplicates.sum()\n",
    "print(f\"Number of duplicate rows: {num_duplicates}\")"
   ]
  },
  {
   "cell_type": "code",
   "execution_count": null,
   "metadata": {},
   "outputs": [],
   "source": []
  }
 ],
 "metadata": {
  "kernelspec": {
   "display_name": "PYTORCH",
   "language": "python",
   "name": "python3"
  },
  "language_info": {
   "codemirror_mode": {
    "name": "ipython",
    "version": 3
   },
   "file_extension": ".py",
   "mimetype": "text/x-python",
   "name": "python",
   "nbconvert_exporter": "python",
   "pygments_lexer": "ipython3",
   "version": "3.9.13"
  }
 },
 "nbformat": 4,
 "nbformat_minor": 2
}
